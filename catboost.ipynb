{
 "cells": [
  {
   "cell_type": "code",
   "execution_count": 1,
   "id": "03f026c8-1b8e-40bf-80cd-97608eac692d",
   "metadata": {},
   "outputs": [
    {
     "name": "stdout",
     "output_type": "stream",
     "text": [
      "\u001b[31mERROR: Could not find a version that satisfies the requirement warnings (from versions: none)\u001b[0m\n",
      "\u001b[31mERROR: No matching distribution found for warnings\u001b[0m\n",
      "Note: you may need to restart the kernel to use updated packages.\n"
     ]
    }
   ],
   "source": [
    "pip install warnings\n"
   ]
  },
  {
   "cell_type": "code",
   "execution_count": 2,
   "id": "d232d909-3912-4fe8-ad45-78fac3c74644",
   "metadata": {},
   "outputs": [
    {
     "name": "stdout",
     "output_type": "stream",
     "text": [
      "No Warning Shown\n"
     ]
    }
   ],
   "source": [
    "import warnings\n",
    "warnings.filterwarnings('ignore')\n",
    "warnings.warn('DelftStack')\n",
    "warnings.warn('Do not show this message')\n",
    "print(\"No Warning Shown\")"
   ]
  },
  {
   "cell_type": "code",
   "execution_count": 3,
   "id": "62ac549e-0b41-40af-a283-1c9f69cbd900",
   "metadata": {},
   "outputs": [
    {
     "name": "stdout",
     "output_type": "stream",
     "text": [
      "Collecting sklearn\n",
      "  Downloading sklearn-0.0.tar.gz (1.1 kB)\n",
      "Requirement already satisfied: scikit-learn in /srv/conda/envs/notebook/lib/python3.7/site-packages (from sklearn) (0.21.3)\n",
      "Requirement already satisfied: scipy>=0.17.0 in /srv/conda/envs/notebook/lib/python3.7/site-packages (from scikit-learn->sklearn) (1.7.1)\n",
      "Requirement already satisfied: numpy>=1.11.0 in /srv/conda/envs/notebook/lib/python3.7/site-packages (from scikit-learn->sklearn) (1.21.2)\n",
      "Requirement already satisfied: joblib>=0.11 in /srv/conda/envs/notebook/lib/python3.7/site-packages (from scikit-learn->sklearn) (1.1.0)\n",
      "Building wheels for collected packages: sklearn\n",
      "  Building wheel for sklearn (setup.py) ... \u001b[?25ldone\n",
      "\u001b[?25h  Created wheel for sklearn: filename=sklearn-0.0-py2.py3-none-any.whl size=1309 sha256=1bba0a543c51ffe04cb9da1ccf5597f7dc9e4db4dcf281b77ad24da8b5fce04b\n",
      "  Stored in directory: /home/jovyan/.cache/pip/wheels/46/ef/c3/157e41f5ee1372d1be90b09f74f82b10e391eaacca8f22d33e\n",
      "Successfully built sklearn\n",
      "Installing collected packages: sklearn\n",
      "Successfully installed sklearn-0.0\n",
      "Note: you may need to restart the kernel to use updated packages.\n"
     ]
    }
   ],
   "source": [
    "pip install sklearn\n"
   ]
  },
  {
   "cell_type": "code",
   "execution_count": 4,
   "id": "602f5d7b-9eb2-4350-8139-2f8d2ea21681",
   "metadata": {},
   "outputs": [
    {
     "name": "stdout",
     "output_type": "stream",
     "text": [
      "Collecting catboost\n",
      "  Downloading catboost-1.0.3-cp37-none-manylinux1_x86_64.whl (76.3 MB)\n",
      "\u001b[K     |████████████████████████████████| 76.3 MB 3.0 MB/s eta 0:00:01\n",
      "\u001b[?25hRequirement already satisfied: numpy>=1.16.0 in /srv/conda/envs/notebook/lib/python3.7/site-packages (from catboost) (1.21.2)\n",
      "Requirement already satisfied: matplotlib in /srv/conda/envs/notebook/lib/python3.7/site-packages (from catboost) (3.1.3)\n",
      "Collecting plotly\n",
      "  Downloading plotly-5.3.1-py2.py3-none-any.whl (23.9 MB)\n",
      "\u001b[K     |████████████████████████████████| 23.9 MB 53.8 MB/s eta 0:00:01\n",
      "\u001b[?25hRequirement already satisfied: pandas>=0.24.0 in /srv/conda/envs/notebook/lib/python3.7/site-packages (from catboost) (1.3.3)\n",
      "Collecting graphviz\n",
      "  Downloading graphviz-0.17-py3-none-any.whl (18 kB)\n",
      "Requirement already satisfied: scipy in /srv/conda/envs/notebook/lib/python3.7/site-packages (from catboost) (1.7.1)\n",
      "Requirement already satisfied: six in /srv/conda/envs/notebook/lib/python3.7/site-packages (from catboost) (1.16.0)\n",
      "Requirement already satisfied: python-dateutil>=2.7.3 in /srv/conda/envs/notebook/lib/python3.7/site-packages (from pandas>=0.24.0->catboost) (2.8.2)\n",
      "Requirement already satisfied: pytz>=2017.3 in /srv/conda/envs/notebook/lib/python3.7/site-packages (from pandas>=0.24.0->catboost) (2021.3)\n",
      "Requirement already satisfied: pyparsing!=2.0.4,!=2.1.2,!=2.1.6,>=2.0.1 in /srv/conda/envs/notebook/lib/python3.7/site-packages (from matplotlib->catboost) (2.4.7)\n",
      "Requirement already satisfied: cycler>=0.10 in /srv/conda/envs/notebook/lib/python3.7/site-packages (from matplotlib->catboost) (0.10.0)\n",
      "Requirement already satisfied: kiwisolver>=1.0.1 in /srv/conda/envs/notebook/lib/python3.7/site-packages (from matplotlib->catboost) (1.3.2)\n",
      "Collecting tenacity>=6.2.0\n",
      "  Downloading tenacity-8.0.1-py3-none-any.whl (24 kB)\n",
      "Installing collected packages: tenacity, plotly, graphviz, catboost\n",
      "Successfully installed catboost-1.0.3 graphviz-0.17 plotly-5.3.1 tenacity-8.0.1\n",
      "Note: you may need to restart the kernel to use updated packages.\n"
     ]
    }
   ],
   "source": [
    "pip install catboost"
   ]
  },
  {
   "cell_type": "code",
   "execution_count": 5,
   "id": "a49ca1b5-b4f8-42bd-8426-be3f531ad142",
   "metadata": {},
   "outputs": [],
   "source": [
    "\n",
    "import pandas as pd\n",
    "\n",
    "data = pd.read_csv(\"Codechef_dataset.csv\")"
   ]
  },
  {
   "cell_type": "code",
   "execution_count": 6,
   "id": "6108a486-a0bb-4ebe-a5c8-e0a583c90b3f",
   "metadata": {},
   "outputs": [],
   "source": [
    "import pandas as pd\n",
    "import numpy as np\n",
    "from catboost import CatBoostRegressor"
   ]
  },
  {
   "cell_type": "code",
   "execution_count": 32,
   "id": "0b166f8b-d09c-4db9-9dcf-f5de0202c39b",
   "metadata": {},
   "outputs": [],
   "source": [
    "X=data[['STAR']]\n",
    "y=data['QUESTION']\n",
    "from sklearn.model_selection import train_test_split\n",
    "X_train, X_validation, y_train, y_validation = train_test_split(X, y, train_size=0.7, random_state=5)"
   ]
  },
  {
   "cell_type": "code",
   "execution_count": 33,
   "id": "dd7f66c5-304e-4284-946a-de623355980c",
   "metadata": {},
   "outputs": [
    {
     "name": "stdout",
     "output_type": "stream",
     "text": [
      "0:\tlearn: 186.0990957\ttotal: 389us\tremaining: 19.1ms\n",
      "1:\tlearn: 171.7721848\ttotal: 828us\tremaining: 19.9ms\n",
      "2:\tlearn: 160.2159851\ttotal: 936us\tremaining: 14.7ms\n",
      "3:\tlearn: 148.8973659\ttotal: 1.03ms\tremaining: 11.8ms\n",
      "4:\tlearn: 137.8647501\ttotal: 1.16ms\tremaining: 10.4ms\n",
      "5:\tlearn: 128.5203600\ttotal: 1.25ms\tremaining: 9.2ms\n",
      "6:\tlearn: 120.3154023\ttotal: 1.34ms\tremaining: 8.22ms\n",
      "7:\tlearn: 112.6129251\ttotal: 1.45ms\tremaining: 7.6ms\n",
      "8:\tlearn: 105.2872095\ttotal: 1.54ms\tremaining: 7.02ms\n",
      "9:\tlearn: 98.7450154\ttotal: 1.64ms\tremaining: 6.58ms\n",
      "10:\tlearn: 92.5156368\ttotal: 1.79ms\tremaining: 6.34ms\n",
      "11:\tlearn: 86.9777686\ttotal: 1.89ms\tremaining: 5.99ms\n",
      "12:\tlearn: 82.7231258\ttotal: 2.01ms\tremaining: 5.72ms\n",
      "13:\tlearn: 78.2674216\ttotal: 2.13ms\tremaining: 5.47ms\n",
      "14:\tlearn: 75.5677663\ttotal: 2.24ms\tremaining: 5.23ms\n",
      "15:\tlearn: 71.8025523\ttotal: 2.38ms\tremaining: 5.05ms\n",
      "16:\tlearn: 68.9414709\ttotal: 2.5ms\tremaining: 4.86ms\n",
      "17:\tlearn: 66.3625127\ttotal: 2.61ms\tremaining: 4.64ms\n",
      "18:\tlearn: 63.9842444\ttotal: 2.72ms\tremaining: 4.43ms\n",
      "19:\tlearn: 61.9767698\ttotal: 2.83ms\tremaining: 4.25ms\n",
      "20:\tlearn: 59.9715353\ttotal: 2.94ms\tremaining: 4.05ms\n",
      "21:\tlearn: 58.2476907\ttotal: 3.08ms\tremaining: 3.92ms\n",
      "22:\tlearn: 56.7253081\ttotal: 3.21ms\tremaining: 3.77ms\n",
      "23:\tlearn: 55.9683900\ttotal: 3.33ms\tremaining: 3.6ms\n",
      "24:\tlearn: 54.9754694\ttotal: 3.42ms\tremaining: 3.42ms\n",
      "25:\tlearn: 54.0558355\ttotal: 3.53ms\tremaining: 3.26ms\n",
      "26:\tlearn: 53.4486876\ttotal: 3.64ms\tremaining: 3.1ms\n",
      "27:\tlearn: 52.8176398\ttotal: 3.77ms\tremaining: 2.97ms\n",
      "28:\tlearn: 52.2202104\ttotal: 3.88ms\tremaining: 2.81ms\n",
      "29:\tlearn: 51.5628020\ttotal: 3.98ms\tremaining: 2.66ms\n",
      "30:\tlearn: 51.1215885\ttotal: 4.1ms\tremaining: 2.51ms\n",
      "31:\tlearn: 50.6386093\ttotal: 4.22ms\tremaining: 2.37ms\n",
      "32:\tlearn: 50.2610611\ttotal: 4.34ms\tremaining: 2.24ms\n",
      "33:\tlearn: 49.9500151\ttotal: 4.49ms\tremaining: 2.12ms\n",
      "34:\tlearn: 49.6645729\ttotal: 4.65ms\tremaining: 1.99ms\n",
      "35:\tlearn: 49.4679874\ttotal: 4.79ms\tremaining: 1.86ms\n",
      "36:\tlearn: 49.3174033\ttotal: 4.91ms\tremaining: 1.73ms\n",
      "37:\tlearn: 49.1338396\ttotal: 5.01ms\tremaining: 1.58ms\n",
      "38:\tlearn: 49.0102668\ttotal: 5.14ms\tremaining: 1.45ms\n",
      "39:\tlearn: 48.9013098\ttotal: 5.25ms\tremaining: 1.31ms\n",
      "40:\tlearn: 48.8137970\ttotal: 5.36ms\tremaining: 1.18ms\n",
      "41:\tlearn: 48.7062017\ttotal: 5.43ms\tremaining: 1.03ms\n",
      "42:\tlearn: 48.6391583\ttotal: 5.54ms\tremaining: 901us\n",
      "43:\tlearn: 48.5605937\ttotal: 5.69ms\tremaining: 776us\n",
      "44:\tlearn: 48.4841566\ttotal: 5.83ms\tremaining: 648us\n",
      "45:\tlearn: 48.4205749\ttotal: 5.97ms\tremaining: 519us\n",
      "46:\tlearn: 48.3668950\ttotal: 6.07ms\tremaining: 387us\n",
      "47:\tlearn: 48.3420175\ttotal: 6.17ms\tremaining: 256us\n",
      "48:\tlearn: 48.3172752\ttotal: 6.26ms\tremaining: 127us\n",
      "49:\tlearn: 48.2765982\ttotal: 6.36ms\tremaining: 0us\n"
     ]
    },
    {
     "data": {
      "text/plain": [
       "<catboost.core.CatBoostRegressor at 0x7fbf14d24790>"
      ]
     },
     "execution_count": 33,
     "metadata": {},
     "output_type": "execute_result"
    }
   ],
   "source": [
    "from catboost import CatBoostRegressor\n",
    "model=CatBoostRegressor(iterations=50, depth=3, learning_rate=0.1, loss_function='RMSE')\n",
    "model.fit(X_train, y_train)"
   ]
  },
  {
   "cell_type": "code",
   "execution_count": 22,
   "id": "f536db21-bfb5-455b-ba48-5927e5587b65",
   "metadata": {},
   "outputs": [
    {
     "ename": "ValueError",
     "evalue": "Classification metrics can't handle a mix of multiclass and continuous targets",
     "output_type": "error",
     "traceback": [
      "\u001b[0;31m---------------------------------------------------------------------------\u001b[0m",
      "\u001b[0;31mValueError\u001b[0m                                Traceback (most recent call last)",
      "\u001b[0;32m<ipython-input-22-6044cef8d2d7>\u001b[0m in \u001b[0;36m<module>\u001b[0;34m\u001b[0m\n\u001b[0;32m----> 1\u001b[0;31m \u001b[0mc\u001b[0m \u001b[0;34m=\u001b[0m  \u001b[0msklearn\u001b[0m\u001b[0;34m.\u001b[0m\u001b[0mmetrics\u001b[0m\u001b[0;34m.\u001b[0m\u001b[0maccuracy_score\u001b[0m\u001b[0;34m(\u001b[0m\u001b[0my_validation\u001b[0m\u001b[0;34m,\u001b[0m \u001b[0my_pred\u001b[0m\u001b[0;34m)\u001b[0m\u001b[0;34m*\u001b[0m\u001b[0;36m1000\u001b[0m\u001b[0;34m\u001b[0m\u001b[0;34m\u001b[0m\u001b[0m\n\u001b[0m\u001b[1;32m      2\u001b[0m \u001b[0;34m\u001b[0m\u001b[0m\n",
      "\u001b[0;32m/srv/conda/envs/notebook/lib/python3.7/site-packages/sklearn/metrics/classification.py\u001b[0m in \u001b[0;36maccuracy_score\u001b[0;34m(y_true, y_pred, normalize, sample_weight)\u001b[0m\n\u001b[1;32m    174\u001b[0m \u001b[0;34m\u001b[0m\u001b[0m\n\u001b[1;32m    175\u001b[0m     \u001b[0;31m# Compute accuracy for each possible representation\u001b[0m\u001b[0;34m\u001b[0m\u001b[0;34m\u001b[0m\u001b[0;34m\u001b[0m\u001b[0m\n\u001b[0;32m--> 176\u001b[0;31m     \u001b[0my_type\u001b[0m\u001b[0;34m,\u001b[0m \u001b[0my_true\u001b[0m\u001b[0;34m,\u001b[0m \u001b[0my_pred\u001b[0m \u001b[0;34m=\u001b[0m \u001b[0m_check_targets\u001b[0m\u001b[0;34m(\u001b[0m\u001b[0my_true\u001b[0m\u001b[0;34m,\u001b[0m \u001b[0my_pred\u001b[0m\u001b[0;34m)\u001b[0m\u001b[0;34m\u001b[0m\u001b[0;34m\u001b[0m\u001b[0m\n\u001b[0m\u001b[1;32m    177\u001b[0m     \u001b[0mcheck_consistent_length\u001b[0m\u001b[0;34m(\u001b[0m\u001b[0my_true\u001b[0m\u001b[0;34m,\u001b[0m \u001b[0my_pred\u001b[0m\u001b[0;34m,\u001b[0m \u001b[0msample_weight\u001b[0m\u001b[0;34m)\u001b[0m\u001b[0;34m\u001b[0m\u001b[0;34m\u001b[0m\u001b[0m\n\u001b[1;32m    178\u001b[0m     \u001b[0;32mif\u001b[0m \u001b[0my_type\u001b[0m\u001b[0;34m.\u001b[0m\u001b[0mstartswith\u001b[0m\u001b[0;34m(\u001b[0m\u001b[0;34m'multilabel'\u001b[0m\u001b[0;34m)\u001b[0m\u001b[0;34m:\u001b[0m\u001b[0;34m\u001b[0m\u001b[0;34m\u001b[0m\u001b[0m\n",
      "\u001b[0;32m/srv/conda/envs/notebook/lib/python3.7/site-packages/sklearn/metrics/classification.py\u001b[0m in \u001b[0;36m_check_targets\u001b[0;34m(y_true, y_pred)\u001b[0m\n\u001b[1;32m     79\u001b[0m     \u001b[0;32mif\u001b[0m \u001b[0mlen\u001b[0m\u001b[0;34m(\u001b[0m\u001b[0my_type\u001b[0m\u001b[0;34m)\u001b[0m \u001b[0;34m>\u001b[0m \u001b[0;36m1\u001b[0m\u001b[0;34m:\u001b[0m\u001b[0;34m\u001b[0m\u001b[0;34m\u001b[0m\u001b[0m\n\u001b[1;32m     80\u001b[0m         raise ValueError(\"Classification metrics can't handle a mix of {0} \"\n\u001b[0;32m---> 81\u001b[0;31m                          \"and {1} targets\".format(type_true, type_pred))\n\u001b[0m\u001b[1;32m     82\u001b[0m \u001b[0;34m\u001b[0m\u001b[0m\n\u001b[1;32m     83\u001b[0m     \u001b[0;31m# We can't have more than one value on y_type => The set is no more needed\u001b[0m\u001b[0;34m\u001b[0m\u001b[0;34m\u001b[0m\u001b[0;34m\u001b[0m\u001b[0m\n",
      "\u001b[0;31mValueError\u001b[0m: Classification metrics can't handle a mix of multiclass and continuous targets"
     ]
    }
   ],
   "source": [
    "\n",
    "c =  sklearn.metrics.accuracy_score(y_validation, y_pred)*1000 \n",
    "\n"
   ]
  },
  {
   "cell_type": "code",
   "execution_count": 21,
   "id": "6cbf0e2c-a671-40ac-a2a4-67c8fbe92f2f",
   "metadata": {},
   "outputs": [],
   "source": [
    "import sklearn.metrics"
   ]
  },
  {
   "cell_type": "code",
   "execution_count": 23,
   "id": "417bc03c-f775-4814-bc75-e66ab8244d23",
   "metadata": {},
   "outputs": [
    {
     "name": "stdout",
     "output_type": "stream",
     "text": [
      "     STAR\n",
      "198     4\n",
      "66      2\n",
      "24      1\n",
      "102     3\n",
      "264     6\n",
      "..    ...\n",
      "3       1\n",
      "55      2\n",
      "138     3\n",
      "127     3\n",
      "75      2\n",
      "\n",
      "[90 rows x 1 columns]\n"
     ]
    }
   ],
   "source": [
    "print(X_validation)"
   ]
  },
  {
   "cell_type": "code",
   "execution_count": 24,
   "id": "2bd16e5c-fe9c-4ea7-8ef4-3a8e145bd565",
   "metadata": {},
   "outputs": [
    {
     "name": "stdout",
     "output_type": "stream",
     "text": [
      "[181.0667109   44.72884281  20.7907416  113.99516995 445.54574434\n",
      "  44.72884281 445.54574434 181.0667109  113.99516995 113.99516995\n",
      " 287.67779777 181.0667109   44.72884281 287.67779777  44.72884281\n",
      " 287.67779777 445.54574434  44.72884281 287.67779777 445.54574434\n",
      " 287.67779777 113.99516995 772.18191516 772.18191516 113.99516995\n",
      " 772.18191516 287.67779777  44.72884281 287.67779777 181.0667109\n",
      " 113.99516995 113.99516995 287.67779777 181.0667109  445.54574434\n",
      " 287.67779777 445.54574434 181.0667109  287.67779777 181.0667109\n",
      "  44.72884281 772.18191516  44.72884281  20.7907416   44.72884281\n",
      " 113.99516995 113.99516995 113.99516995 287.67779777 445.54574434\n",
      " 772.18191516  44.72884281  44.72884281 287.67779777 113.99516995\n",
      " 113.99516995 445.54574434  44.72884281 287.67779777 181.0667109\n",
      " 287.67779777  20.7907416   44.72884281 181.0667109  113.99516995\n",
      " 181.0667109  772.18191516 181.0667109  287.67779777 287.67779777\n",
      " 772.18191516  20.7907416  113.99516995 181.0667109  772.18191516\n",
      "  44.72884281  44.72884281 181.0667109   44.72884281  20.7907416\n",
      " 287.67779777 772.18191516  20.7907416  113.99516995  20.7907416\n",
      "  20.7907416   44.72884281 113.99516995 113.99516995  44.72884281]\n"
     ]
    }
   ],
   "source": [
    "y_pred= model.predict(X_validation)\n",
    "print(y_pred)"
   ]
  },
  {
   "cell_type": "code",
   "execution_count": 35,
   "id": "8f75cd4f-949b-408e-afc7-0b88dee8ecfb",
   "metadata": {},
   "outputs": [],
   "source": [
    "test_preds = model.predict(X_train)"
   ]
  },
  {
   "cell_type": "code",
   "execution_count": 36,
   "id": "77ada4a3-a292-423d-bf9f-10edb9caf557",
   "metadata": {},
   "outputs": [
    {
     "name": "stdout",
     "output_type": "stream",
     "text": [
      "Test  R2 : 0.94\n"
     ]
    }
   ],
   "source": [
    "from catboost.utils import eval_metric\n",
    "\n",
    "print(\"Test  R2 : %.2f\"%eval_metric(y_train, test_preds, \"R2\")[0])"
   ]
  },
  {
   "cell_type": "code",
   "execution_count": null,
   "id": "fc53233f-b534-4bab-9e86-2454a7bb9219",
   "metadata": {},
   "outputs": [],
   "source": []
  }
 ],
 "metadata": {
  "kernelspec": {
   "display_name": "Python 3",
   "language": "python",
   "name": "python3"
  },
  "language_info": {
   "codemirror_mode": {
    "name": "ipython",
    "version": 3
   },
   "file_extension": ".py",
   "mimetype": "text/x-python",
   "name": "python",
   "nbconvert_exporter": "python",
   "pygments_lexer": "ipython3",
   "version": "3.7.8"
  }
 },
 "nbformat": 4,
 "nbformat_minor": 5
}
